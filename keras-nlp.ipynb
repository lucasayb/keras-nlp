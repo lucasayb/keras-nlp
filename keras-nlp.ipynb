{
 "cells": [
  {
   "cell_type": "code",
   "execution_count": 1,
   "metadata": {},
   "outputs": [],
   "source": [
    "import pandas as pd"
   ]
  },
  {
   "cell_type": "code",
   "execution_count": 2,
   "metadata": {},
   "outputs": [],
   "source": [
    "df = pd.read_csv('./train.csv')"
   ]
  },
  {
   "cell_type": "code",
   "execution_count": 3,
   "metadata": {},
   "outputs": [
    {
     "data": {
      "text/plain": [
       "array([['tenis nike preto'],\n",
       "       ['tenis nike azul'],\n",
       "       ['tenis nike cinza'],\n",
       "       ['tenis adidas preto'],\n",
       "       ['tenis adidas azul'],\n",
       "       ['tenis adidas cinza'],\n",
       "       ['bota samurai rainha preta'],\n",
       "       ['bota samurai rainha cinza'],\n",
       "       ['bota samurai rainha branca'],\n",
       "       ['camisa polo verde'],\n",
       "       ['camisa polo azul'],\n",
       "       ['camisa polo vermelha'],\n",
       "       ['camisa south-to-south roxa'],\n",
       "       ['panetone bauducco'],\n",
       "       ['chocotone bauducco']], dtype=object)"
      ]
     },
     "execution_count": 3,
     "metadata": {},
     "output_type": "execute_result"
    }
   ],
   "source": [
    "X_train = df['product'].values\n",
    "X_train.reshape(-1,1)"
   ]
  },
  {
   "cell_type": "code",
   "execution_count": 4,
   "metadata": {},
   "outputs": [],
   "source": [
    "from sklearn.preprocessing import LabelEncoder"
   ]
  },
  {
   "cell_type": "code",
   "execution_count": 5,
   "metadata": {},
   "outputs": [
    {
     "name": "stderr",
     "output_type": "stream",
     "text": [
      "/Users/lucasyamamoto/opt/anaconda3/envs/codeby/lib/python3.6/site-packages/sklearn/utils/validation.py:73: DataConversionWarning: A column-vector y was passed when a 1d array was expected. Please change the shape of y to (n_samples, ), for example using ravel().\n",
      "  return f(**kwargs)\n"
     ]
    }
   ],
   "source": [
    "categories = df['category'].values\n",
    "label_encoder = LabelEncoder()\n",
    "y_train = label_encoder.fit_transform(categories.reshape(-1,1))"
   ]
  },
  {
   "cell_type": "code",
   "execution_count": 6,
   "metadata": {},
   "outputs": [
    {
     "data": {
      "text/plain": [
       "<15x21 sparse matrix of type '<class 'numpy.float64'>'\n",
       "\twith 47 stored elements in Compressed Sparse Row format>"
      ]
     },
     "execution_count": 6,
     "metadata": {},
     "output_type": "execute_result"
    }
   ],
   "source": [
    "from sklearn.pipeline import Pipeline\n",
    "from sklearn.feature_extraction.text import CountVectorizer, TfidfTransformer\n",
    "text_vec = Pipeline([\n",
    "    ('vect', CountVectorizer()),\n",
    "    ('tfidf', TfidfTransformer())\n",
    "])\n",
    "X_train = text_vec.fit_transform(X_train)\n",
    "X_train"
   ]
  },
  {
   "cell_type": "code",
   "execution_count": 7,
   "metadata": {},
   "outputs": [
    {
     "name": "stderr",
     "output_type": "stream",
     "text": [
      "Using TensorFlow backend.\n"
     ]
    },
    {
     "name": "stdout",
     "output_type": "stream",
     "text": [
      "Epoch 1/100\n",
      "15/15 [==============================] - 1s 36ms/step - loss: 1.0802 - accuracy: 0.6000\n",
      "Epoch 2/100\n",
      "15/15 [==============================] - 0s 740us/step - loss: 1.0530 - accuracy: 0.6667\n",
      "Epoch 3/100\n",
      "15/15 [==============================] - 0s 1ms/step - loss: 1.0229 - accuracy: 0.7333\n",
      "Epoch 4/100\n",
      "15/15 [==============================] - 0s 1ms/step - loss: 0.9925 - accuracy: 0.8667\n",
      "Epoch 5/100\n",
      "15/15 [==============================] - 0s 843us/step - loss: 0.9631 - accuracy: 0.8667\n",
      "Epoch 6/100\n",
      "15/15 [==============================] - 0s 718us/step - loss: 0.9332 - accuracy: 0.8667\n",
      "Epoch 7/100\n",
      "15/15 [==============================] - 0s 718us/step - loss: 0.9049 - accuracy: 0.8667\n",
      "Epoch 8/100\n",
      "15/15 [==============================] - 0s 1ms/step - loss: 0.8771 - accuracy: 0.8667\n",
      "Epoch 9/100\n",
      "15/15 [==============================] - 0s 2ms/step - loss: 0.8488 - accuracy: 0.8667\n",
      "Epoch 10/100\n",
      "15/15 [==============================] - 0s 852us/step - loss: 0.8213 - accuracy: 0.8667\n",
      "Epoch 11/100\n",
      "15/15 [==============================] - 0s 693us/step - loss: 0.7944 - accuracy: 0.9333\n",
      "Epoch 12/100\n",
      "15/15 [==============================] - 0s 502us/step - loss: 0.7679 - accuracy: 0.9333\n",
      "Epoch 13/100\n",
      "15/15 [==============================] - 0s 726us/step - loss: 0.7406 - accuracy: 0.9333\n",
      "Epoch 14/100\n",
      "15/15 [==============================] - 0s 515us/step - loss: 0.7145 - accuracy: 0.9333\n",
      "Epoch 15/100\n",
      "15/15 [==============================] - 0s 539us/step - loss: 0.6881 - accuracy: 0.9333\n",
      "Epoch 16/100\n",
      "15/15 [==============================] - 0s 523us/step - loss: 0.6626 - accuracy: 0.9333\n",
      "Epoch 17/100\n",
      "15/15 [==============================] - 0s 717us/step - loss: 0.6362 - accuracy: 0.9333\n",
      "Epoch 18/100\n",
      "15/15 [==============================] - 0s 535us/step - loss: 0.6113 - accuracy: 0.9333\n",
      "Epoch 19/100\n",
      "15/15 [==============================] - 0s 811us/step - loss: 0.5866 - accuracy: 0.9333\n",
      "Epoch 20/100\n",
      "15/15 [==============================] - 0s 872us/step - loss: 0.5612 - accuracy: 0.9333\n",
      "Epoch 21/100\n",
      "15/15 [==============================] - 0s 537us/step - loss: 0.5385 - accuracy: 0.9333\n",
      "Epoch 22/100\n",
      "15/15 [==============================] - 0s 842us/step - loss: 0.5138 - accuracy: 0.9333\n",
      "Epoch 23/100\n",
      "15/15 [==============================] - 0s 743us/step - loss: 0.4909 - accuracy: 0.9333\n",
      "Epoch 24/100\n",
      "15/15 [==============================] - 0s 633us/step - loss: 0.4691 - accuracy: 1.0000\n",
      "Epoch 25/100\n",
      "15/15 [==============================] - ETA: 0s - loss: 0.4761 - accuracy: 1.00 - 0s 456us/step - loss: 0.4472 - accuracy: 1.0000\n",
      "Epoch 26/100\n",
      "15/15 [==============================] - 0s 650us/step - loss: 0.4269 - accuracy: 1.0000\n",
      "Epoch 27/100\n",
      "15/15 [==============================] - 0s 888us/step - loss: 0.4064 - accuracy: 1.0000\n",
      "Epoch 28/100\n",
      "15/15 [==============================] - 0s 558us/step - loss: 0.3874 - accuracy: 1.0000\n",
      "Epoch 29/100\n",
      "15/15 [==============================] - 0s 788us/step - loss: 0.3689 - accuracy: 1.0000\n",
      "Epoch 30/100\n",
      "15/15 [==============================] - 0s 587us/step - loss: 0.3514 - accuracy: 1.0000\n",
      "Epoch 31/100\n",
      "15/15 [==============================] - 0s 534us/step - loss: 0.3341 - accuracy: 1.0000\n",
      "Epoch 32/100\n",
      "15/15 [==============================] - 0s 531us/step - loss: 0.3180 - accuracy: 1.0000\n",
      "Epoch 33/100\n",
      "15/15 [==============================] - 0s 621us/step - loss: 0.3026 - accuracy: 1.0000\n",
      "Epoch 34/100\n",
      "15/15 [==============================] - 0s 505us/step - loss: 0.2873 - accuracy: 1.0000\n",
      "Epoch 35/100\n",
      "15/15 [==============================] - 0s 793us/step - loss: 0.2732 - accuracy: 1.0000\n",
      "Epoch 36/100\n",
      "15/15 [==============================] - 0s 1ms/step - loss: 0.2595 - accuracy: 1.0000\n",
      "Epoch 37/100\n",
      "15/15 [==============================] - 0s 748us/step - loss: 0.2466 - accuracy: 1.0000\n",
      "Epoch 38/100\n",
      "15/15 [==============================] - 0s 599us/step - loss: 0.2348 - accuracy: 1.0000\n",
      "Epoch 39/100\n",
      "15/15 [==============================] - 0s 741us/step - loss: 0.2230 - accuracy: 1.0000\n",
      "Epoch 40/100\n",
      "15/15 [==============================] - 0s 609us/step - loss: 0.2109 - accuracy: 1.0000\n",
      "Epoch 41/100\n",
      "15/15 [==============================] - 0s 416us/step - loss: 0.2010 - accuracy: 1.0000\n",
      "Epoch 42/100\n",
      "15/15 [==============================] - 0s 640us/step - loss: 0.1905 - accuracy: 1.0000\n",
      "Epoch 43/100\n",
      "15/15 [==============================] - 0s 492us/step - loss: 0.1810 - accuracy: 1.0000\n",
      "Epoch 44/100\n",
      "15/15 [==============================] - 0s 647us/step - loss: 0.1729 - accuracy: 1.0000\n",
      "Epoch 45/100\n",
      "15/15 [==============================] - 0s 532us/step - loss: 0.1636 - accuracy: 1.0000\n",
      "Epoch 46/100\n",
      "15/15 [==============================] - 0s 650us/step - loss: 0.1557 - accuracy: 1.0000\n",
      "Epoch 47/100\n",
      "15/15 [==============================] - 0s 650us/step - loss: 0.1482 - accuracy: 1.0000\n",
      "Epoch 48/100\n",
      "15/15 [==============================] - 0s 1ms/step - loss: 0.1410 - accuracy: 1.0000\n",
      "Epoch 49/100\n",
      "15/15 [==============================] - 0s 658us/step - loss: 0.1342 - accuracy: 1.0000\n",
      "Epoch 50/100\n",
      "15/15 [==============================] - 0s 634us/step - loss: 0.1283 - accuracy: 1.0000\n",
      "Epoch 51/100\n",
      "15/15 [==============================] - 0s 632us/step - loss: 0.1218 - accuracy: 1.0000\n",
      "Epoch 52/100\n",
      "15/15 [==============================] - 0s 614us/step - loss: 0.1169 - accuracy: 1.0000\n",
      "Epoch 53/100\n",
      "15/15 [==============================] - 0s 926us/step - loss: 0.1110 - accuracy: 1.0000\n",
      "Epoch 54/100\n",
      "15/15 [==============================] - 0s 860us/step - loss: 0.1064 - accuracy: 1.0000\n",
      "Epoch 55/100\n",
      "15/15 [==============================] - 0s 795us/step - loss: 0.1012 - accuracy: 1.0000\n",
      "Epoch 56/100\n",
      "15/15 [==============================] - 0s 831us/step - loss: 0.0967 - accuracy: 1.0000\n",
      "Epoch 57/100\n",
      "15/15 [==============================] - 0s 759us/step - loss: 0.0923 - accuracy: 1.0000\n",
      "Epoch 58/100\n",
      "15/15 [==============================] - 0s 863us/step - loss: 0.0882 - accuracy: 1.0000\n",
      "Epoch 59/100\n",
      "15/15 [==============================] - 0s 908us/step - loss: 0.0841 - accuracy: 1.0000\n",
      "Epoch 60/100\n",
      "15/15 [==============================] - 0s 603us/step - loss: 0.0807 - accuracy: 1.0000\n",
      "Epoch 61/100\n",
      "15/15 [==============================] - 0s 891us/step - loss: 0.0772 - accuracy: 1.0000\n",
      "Epoch 62/100\n",
      "15/15 [==============================] - 0s 1ms/step - loss: 0.0738 - accuracy: 1.0000\n",
      "Epoch 63/100\n",
      "15/15 [==============================] - 0s 776us/step - loss: 0.0703 - accuracy: 1.0000\n",
      "Epoch 64/100\n",
      "15/15 [==============================] - 0s 737us/step - loss: 0.0677 - accuracy: 1.0000\n",
      "Epoch 65/100\n",
      "15/15 [==============================] - 0s 807us/step - loss: 0.0647 - accuracy: 1.0000\n",
      "Epoch 66/100\n",
      "15/15 [==============================] - 0s 937us/step - loss: 0.0623 - accuracy: 1.0000\n",
      "Epoch 67/100\n",
      "15/15 [==============================] - 0s 817us/step - loss: 0.0596 - accuracy: 1.0000\n",
      "Epoch 68/100\n",
      "15/15 [==============================] - 0s 799us/step - loss: 0.0576 - accuracy: 1.0000\n",
      "Epoch 69/100\n",
      "15/15 [==============================] - 0s 678us/step - loss: 0.0550 - accuracy: 1.0000\n",
      "Epoch 70/100\n",
      "15/15 [==============================] - 0s 486us/step - loss: 0.0532 - accuracy: 1.0000\n",
      "Epoch 71/100\n",
      "15/15 [==============================] - 0s 883us/step - loss: 0.0511 - accuracy: 1.0000\n",
      "Epoch 72/100\n",
      "15/15 [==============================] - 0s 703us/step - loss: 0.0492 - accuracy: 1.0000\n",
      "Epoch 73/100\n",
      "15/15 [==============================] - 0s 772us/step - loss: 0.0475 - accuracy: 1.0000\n",
      "Epoch 74/100\n",
      "15/15 [==============================] - 0s 1ms/step - loss: 0.0456 - accuracy: 1.0000\n",
      "Epoch 75/100\n",
      "15/15 [==============================] - 0s 673us/step - loss: 0.0440 - accuracy: 1.0000\n",
      "Epoch 76/100\n",
      "15/15 [==============================] - 0s 623us/step - loss: 0.0426 - accuracy: 1.0000\n",
      "Epoch 77/100\n",
      "15/15 [==============================] - 0s 587us/step - loss: 0.0411 - accuracy: 1.0000\n",
      "Epoch 78/100\n",
      "15/15 [==============================] - 0s 616us/step - loss: 0.0397 - accuracy: 1.0000\n",
      "Epoch 79/100\n",
      "15/15 [==============================] - 0s 661us/step - loss: 0.0384 - accuracy: 1.0000\n",
      "Epoch 80/100\n",
      "15/15 [==============================] - 0s 683us/step - loss: 0.0371 - accuracy: 1.0000\n",
      "Epoch 81/100\n",
      "15/15 [==============================] - 0s 891us/step - loss: 0.0358 - accuracy: 1.0000\n",
      "Epoch 82/100\n",
      "15/15 [==============================] - 0s 772us/step - loss: 0.0348 - accuracy: 1.0000\n",
      "Epoch 83/100\n",
      "15/15 [==============================] - 0s 616us/step - loss: 0.0336 - accuracy: 1.0000\n",
      "Epoch 84/100\n",
      "15/15 [==============================] - 0s 772us/step - loss: 0.0326 - accuracy: 1.0000\n",
      "Epoch 85/100\n",
      "15/15 [==============================] - 0s 637us/step - loss: 0.0315 - accuracy: 1.0000\n",
      "Epoch 86/100\n",
      "15/15 [==============================] - 0s 863us/step - loss: 0.0305 - accuracy: 1.0000\n",
      "Epoch 87/100\n",
      "15/15 [==============================] - 0s 827us/step - loss: 0.0296 - accuracy: 1.0000\n",
      "Epoch 88/100\n",
      "15/15 [==============================] - 0s 1ms/step - loss: 0.0288 - accuracy: 1.0000\n",
      "Epoch 89/100\n",
      "15/15 [==============================] - 0s 796us/step - loss: 0.0279 - accuracy: 1.0000\n",
      "Epoch 90/100\n",
      "15/15 [==============================] - 0s 631us/step - loss: 0.0271 - accuracy: 1.0000\n",
      "Epoch 91/100\n",
      "15/15 [==============================] - 0s 784us/step - loss: 0.0263 - accuracy: 1.0000\n",
      "Epoch 92/100\n",
      "15/15 [==============================] - ETA: 0s - loss: 0.0236 - accuracy: 1.00 - 0s 763us/step - loss: 0.0255 - accuracy: 1.0000\n",
      "Epoch 93/100\n",
      "15/15 [==============================] - 0s 655us/step - loss: 0.0249 - accuracy: 1.0000\n",
      "Epoch 94/100\n",
      "15/15 [==============================] - 0s 460us/step - loss: 0.0242 - accuracy: 1.0000\n",
      "Epoch 95/100\n",
      "15/15 [==============================] - 0s 632us/step - loss: 0.0235 - accuracy: 1.0000\n",
      "Epoch 96/100\n",
      "15/15 [==============================] - 0s 598us/step - loss: 0.0228 - accuracy: 1.0000\n",
      "Epoch 97/100\n",
      "15/15 [==============================] - 0s 944us/step - loss: 0.0223 - accuracy: 1.0000\n",
      "Epoch 98/100\n",
      "15/15 [==============================] - 0s 735us/step - loss: 0.0217 - accuracy: 1.0000\n",
      "Epoch 99/100\n",
      "15/15 [==============================] - 0s 707us/step - loss: 0.0211 - accuracy: 1.0000\n",
      "Epoch 100/100\n",
      "15/15 [==============================] - 0s 1ms/step - loss: 0.0205 - accuracy: 1.0000\n"
     ]
    },
    {
     "data": {
      "text/plain": [
       "<keras.callbacks.callbacks.History at 0x7ff81415ff60>"
      ]
     },
     "execution_count": 7,
     "metadata": {},
     "output_type": "execute_result"
    }
   ],
   "source": [
    "from keras.layers import Dense\n",
    "from keras.models import Sequential\n",
    "\n",
    "model = Sequential()\n",
    "model.add(Dense(200, input_dim=X_train.shape[1], activation='relu'))\n",
    "model.add(Dense(3, activation='softmax'))\n",
    "model.compile(loss='sparse_categorical_crossentropy',\n",
    "              optimizer='adam',\n",
    "              metrics=['accuracy'])\n",
    "model.fit(X_train, y_train,\n",
    "         epochs=100,\n",
    "         verbose=True,\n",
    "         batch_size=10)"
   ]
  },
  {
   "cell_type": "code",
   "execution_count": 8,
   "metadata": {},
   "outputs": [
    {
     "name": "stdout",
     "output_type": "stream",
     "text": [
      "Model: \"sequential_1\"\n",
      "_________________________________________________________________\n",
      "Layer (type)                 Output Shape              Param #   \n",
      "=================================================================\n",
      "dense_1 (Dense)              (None, 200)               4400      \n",
      "_________________________________________________________________\n",
      "dense_2 (Dense)              (None, 3)                 603       \n",
      "=================================================================\n",
      "Total params: 5,003\n",
      "Trainable params: 5,003\n",
      "Non-trainable params: 0\n",
      "_________________________________________________________________\n"
     ]
    }
   ],
   "source": [
    "model.summary()"
   ]
  },
  {
   "cell_type": "code",
   "execution_count": 9,
   "metadata": {},
   "outputs": [],
   "source": [
    "df_test = pd.read_csv('./test.csv')"
   ]
  },
  {
   "cell_type": "code",
   "execution_count": 10,
   "metadata": {},
   "outputs": [],
   "source": [
    "X_test = df_test['product'].values"
   ]
  },
  {
   "cell_type": "code",
   "execution_count": 11,
   "metadata": {},
   "outputs": [],
   "source": [
    "X_test = text_vec.transform(X_test)"
   ]
  },
  {
   "cell_type": "code",
   "execution_count": 12,
   "metadata": {},
   "outputs": [],
   "source": [
    "y_test = label_encoder.transform(df_test['category'].values)"
   ]
  },
  {
   "cell_type": "code",
   "execution_count": 17,
   "metadata": {},
   "outputs": [],
   "source": [
    "predictions = model.predict(X_test)"
   ]
  },
  {
   "cell_type": "code",
   "execution_count": 14,
   "metadata": {},
   "outputs": [
    {
     "name": "stdout",
     "output_type": "stream",
     "text": [
      "6/6 [==============================] - 0s 38ms/step\n",
      "[0.0374559685587883, 1.0]\n"
     ]
    }
   ],
   "source": [
    "model.evaluate(X_test, y_test)"
   ]
  },
  {
   "cell_type": "code",
   "execution_count": 15,
   "metadata": {},
   "outputs": [
    {
     "data": {
      "text/plain": [
       "['loss', 'accuracy']"
      ]
     },
     "execution_count": 15,
     "metadata": {},
     "output_type": "execute_result"
    }
   ],
   "source": [
    "model.metrics_names"
   ]
  },
  {
   "cell_type": "code",
   "execution_count": 18,
   "metadata": {},
   "outputs": [],
   "source": [
    "import numpy as np"
   ]
  },
  {
   "cell_type": "code",
   "execution_count": 28,
   "metadata": {},
   "outputs": [],
   "source": [
    "predictions = np.argmax(predictions, 1)"
   ]
  },
  {
   "cell_type": "code",
   "execution_count": 25,
   "metadata": {},
   "outputs": [],
   "source": [
    "from sklearn.metrics import accuracy_score"
   ]
  },
  {
   "cell_type": "code",
   "execution_count": 29,
   "metadata": {},
   "outputs": [
    {
     "data": {
      "text/plain": [
       "1.0"
      ]
     },
     "execution_count": 29,
     "metadata": {},
     "output_type": "execute_result"
    }
   ],
   "source": [
    "accuracy_score(predictions, y_test)"
   ]
  },
  {
   "cell_type": "code",
   "execution_count": null,
   "metadata": {},
   "outputs": [],
   "source": []
  }
 ],
 "metadata": {
  "kernelspec": {
   "display_name": "Python 3",
   "language": "python",
   "name": "python3"
  },
  "language_info": {
   "codemirror_mode": {
    "name": "ipython",
    "version": 3
   },
   "file_extension": ".py",
   "mimetype": "text/x-python",
   "name": "python",
   "nbconvert_exporter": "python",
   "pygments_lexer": "ipython3",
   "version": "3.6.10"
  }
 },
 "nbformat": 4,
 "nbformat_minor": 4
}
